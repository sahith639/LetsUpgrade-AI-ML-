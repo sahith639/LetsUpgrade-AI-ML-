{
 "cells": [
  {
   "cell_type": "markdown",
   "metadata": {},
   "source": [
    "# 1Q) Research on whether addition, subtraction, multiplication, division, floor division, and modulo operations be performed on complex numbers. Based on your study, implement a Python program to demonstrate these operations."
   ]
  },
  {
   "cell_type": "markdown",
   "metadata": {},
   "source": [
    "A) Addition, subtraction, multiplication, division of complex numbers can be done similar to integers but in python 3.x floor division and modulo operations cant be done directly as we do for integers,but there is a way to implement floor function in mpmath module we have floor function which can be used to find out the  floor value of division result bur modulo operation cant be performed"
   ]
  },
  {
   "cell_type": "code",
   "execution_count": 20,
   "metadata": {},
   "outputs": [
    {
     "name": "stdout",
     "output_type": "stream",
     "text": [
      "Addition of two complex numbers :  (5+7j)\n",
      "Subtraction of two complex numbers :  (1+1j)\n",
      "Multiplication of two complex numbers :  (-6+17j)\n",
      "Division of two complex numbers :  (1.3846153846153848-0.07692307692307697j)\n",
      "Floor value of Division of two complex numbers :  (1.0 - 1.0j)\n"
     ]
    }
   ],
   "source": [
    "import mpmath as mp\n",
    "a=3+4j\n",
    "b=2+3j\n",
    "add=a+b\n",
    "sub=a-b\n",
    "mul=a*b\n",
    "div=a/b\n",
    "floor_div=mp.floor(a/b)\n",
    "print(\"Addition of two complex numbers : \",add)\n",
    "print(\"Subtraction of two complex numbers : \",sub)\n",
    "print(\"Multiplication of two complex numbers : \",mul)\n",
    "print(\"Division of two complex numbers : \",div)\n",
    "print(\"Floor value of Division of two complex numbers : \",floor_div)\n",
    "\n"
   ]
  },
  {
   "cell_type": "markdown",
   "metadata": {},
   "source": [
    "# 2Q) Research on range() functions and its parameters. Create a markdown cell and write in your own words (no copy-paste from google please) what you understand about it. Implement a small program of your choice on the same."
   ]
  },
  {
   "cell_type": "markdown",
   "metadata": {},
   "source": [
    "A) range(start,stop,step) is a built-in function in python which is generally used in generating a sequence of numbers between   start and stop values,it is generally used in looping,it takes 3 parameters:\n",
    "\n",
    "       1)start-the integer value passed in this field decides the starting point of range function\n",
    "       2)stop-the integer value passed in this field decides the ending point of range function stop value is excluded\n",
    "       3)step-its a integer value which determines  increment between each integer in the sequence between start and stop"
   ]
  },
  {
   "cell_type": "code",
   "execution_count": 22,
   "metadata": {},
   "outputs": [
    {
     "name": "stdout",
     "output_type": "stream",
     "text": [
      "1\n",
      "3\n",
      "5\n",
      "7\n",
      "9\n"
     ]
    }
   ],
   "source": [
    "for i in range(1,10,2):\n",
    "    print(i)"
   ]
  },
  {
   "cell_type": "markdown",
   "metadata": {},
   "source": [
    "# 3Q) Consider two numbers. Perform their subtraction and if the result of subtraction is greater than 25, print their multiplication result else print their division result."
   ]
  },
  {
   "cell_type": "code",
   "execution_count": 25,
   "metadata": {},
   "outputs": [
    {
     "name": "stdout",
     "output_type": "stream",
     "text": [
      "Subtraction of above 2 numbers is less than 23 hence division= 1.0833333333333333\n"
     ]
    }
   ],
   "source": [
    "num1=65\n",
    "num2=60\n",
    "sub=num1-num2\n",
    "if sub>25:\n",
    "    print(\"Subtraction of above 2 numbers is greater than 25 hence multiplication=\",num1*num2)\n",
    "else:\n",
    "    print(\"Subtraction of above 2 numbers is less than 25 hence division=\",num1/num2)"
   ]
  },
  {
   "cell_type": "markdown",
   "metadata": {},
   "source": [
    "# 4Q)  Consider a list of 10 elements of integer values. If the number in the list is divisible by 2, print the result as \"square of that number minus 2\"."
   ]
  },
  {
   "cell_type": "code",
   "execution_count": 30,
   "metadata": {},
   "outputs": [
    {
     "name": "stdout",
     "output_type": "stream",
     "text": [
      "1154\n",
      "2114\n",
      "2\n",
      "4094\n"
     ]
    }
   ],
   "source": [
    "num=[3,45,67,34,543,23,31,46,2,64]\n",
    "for number in num:\n",
    "    if (number%2==0):\n",
    "        print((number**2)-2)\n",
    "    else:\n",
    "        continue"
   ]
  },
  {
   "cell_type": "markdown",
   "metadata": {},
   "source": [
    "# 5Q) Consider a list of 10 elements. Print all the elements in the list which are greater than 7 when that number is divided 2."
   ]
  },
  {
   "cell_type": "code",
   "execution_count": 33,
   "metadata": {},
   "outputs": [
    {
     "name": "stdout",
     "output_type": "stream",
     "text": [
      "32\n",
      "54\n",
      "21\n",
      "52\n",
      "34\n",
      "23\n",
      "22\n"
     ]
    }
   ],
   "source": [
    "n=[32,54,21,5,52,11,34,23,22,6]\n",
    "for number in n:\n",
    "    if ((number/2)>7):\n",
    "        print(number)\n",
    "    else:\n",
    "        continue"
   ]
  },
  {
   "cell_type": "code",
   "execution_count": null,
   "metadata": {},
   "outputs": [],
   "source": []
  }
 ],
 "metadata": {
  "kernelspec": {
   "display_name": "Python 3",
   "language": "python",
   "name": "python3"
  },
  "language_info": {
   "codemirror_mode": {
    "name": "ipython",
    "version": 3
   },
   "file_extension": ".py",
   "mimetype": "text/x-python",
   "name": "python",
   "nbconvert_exporter": "python",
   "pygments_lexer": "ipython3",
   "version": "3.8.3"
  }
 },
 "nbformat": 4,
 "nbformat_minor": 4
}
