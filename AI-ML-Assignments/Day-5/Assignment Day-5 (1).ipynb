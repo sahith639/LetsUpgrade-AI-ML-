{
 "cells": [
  {
   "cell_type": "markdown",
   "metadata": {},
   "source": [
    "# 1Q) Write a Python program to find the first 20 non-even prime natural numbers."
   ]
  },
  {
   "cell_type": "code",
   "execution_count": 1,
   "metadata": {},
   "outputs": [
    {
     "name": "stdout",
     "output_type": "stream",
     "text": [
      "3\n",
      "5\n",
      "7\n",
      "11\n",
      "13\n",
      "17\n",
      "19\n",
      "23\n",
      "29\n",
      "31\n",
      "37\n",
      "41\n",
      "43\n",
      "47\n",
      "53\n",
      "59\n",
      "61\n",
      "67\n",
      "71\n",
      "73\n"
     ]
    }
   ],
   "source": [
    "number=0\n",
    "n=20\n",
    "while(n>0):\n",
    "    if number>2:\n",
    "        for i in range(2,number):\n",
    "            if(number%i==0):\n",
    "                break\n",
    "        else:\n",
    "            print(number)\n",
    "            \n",
    "            n-=1\n",
    "        number+=1\n",
    "        \n",
    "    else:\n",
    "        number+=1\n",
    "        continue\n"
   ]
  },
  {
   "cell_type": "markdown",
   "metadata": {},
   "source": [
    "# 2Q) Write a Python program to implement 15 functions of string.\n"
   ]
  },
  {
   "cell_type": "code",
   "execution_count": 2,
   "metadata": {},
   "outputs": [
    {
     "name": "stdout",
     "output_type": "stream",
     "text": [
      "Hello\n",
      "hello\n",
      "HELLO\n",
      "False\n",
      "True\n",
      "True\n",
      "False\n",
      "Hello World\n",
      "1\n",
      "2\n",
      "True\n",
      "bello\n",
      "b'hello'\n",
      "hello\n",
      "False\n"
     ]
    }
   ],
   "source": [
    "#capitalize() this is used to convert first character to uppercase\n",
    "a=\"hello\"\n",
    "print(a.capitalize())\n",
    "\n",
    "#lower() this is used to convert string into lower case\n",
    "a=\"HELLO\"\n",
    "print(a.lower())\n",
    "\n",
    "#upper() this is used to convert string into upper case\n",
    "a=\"hello\"\n",
    "print(a.upper())\n",
    "\n",
    "#endswith() Returns true if the string ends with the specified value\n",
    "print(a.endswith('W'))\n",
    "\n",
    "#startswith() Returns true if the string strats with the specified value\n",
    "print(a.startswith('h'))\n",
    "\n",
    "#isalpha() Returns True if all characters in the string are in  alphabet\n",
    "print(a.isalpha())\n",
    "\n",
    "#isnumeric() Returns True if all characters in the string are in numerical values\n",
    "print(a.isnumeric())\n",
    "\n",
    "#title() This method converts the first character of each word to upper case\n",
    "b=\"hello world\"\n",
    "print(b.title())\n",
    "\n",
    "#index() Searches the string for a specified value and returns the position if found\n",
    "print(a.find('e'))\n",
    "\n",
    "#count() This method returns the number of times a specified value occurs in a string \n",
    "print(a.count('l'))\n",
    "\n",
    "#isalnum() Returns True if all characters in the string are alphanumeric\n",
    "print(a.isalnum())\n",
    "\n",
    "#replace() This method replaces a string with another string:\n",
    "print(a.replace(\"h\", \"b\"))\n",
    "\n",
    "#encode() Returns an encoded version of the string\n",
    "print(a.encode())\n",
    "\n",
    "#strip() method removes any whitespace from the beginning or the end:\n",
    "print(a.strip())\n",
    "\n",
    "#istitle() this method returns True if the string follows the rules of a title\n",
    "print(a.istitle())\n",
    "\n",
    "\n"
   ]
  },
  {
   "cell_type": "markdown",
   "metadata": {},
   "source": [
    "# 3Q) Write a Python program to check if the given string is a Palindrome or Anagram or None of them. Display the message accordingly to the user."
   ]
  },
  {
   "cell_type": "code",
   "execution_count": 3,
   "metadata": {},
   "outputs": [
    {
     "name": "stdout",
     "output_type": "stream",
     "text": [
      "Given string is palindrome\n",
      "radar and darar are anagrams to each other \n"
     ]
    }
   ],
   "source": [
    "def palindrome(string):\n",
    "    rev=string[::-1]\n",
    "    if string==rev:\n",
    "        return True\n",
    "    else:\n",
    "        return False\n",
    "def anagram(s1,s2):\n",
    "    s1=list(s1)\n",
    "    s1.sort()\n",
    "    s2=list(s2)\n",
    "    s2.sort()\n",
    "    if s1==s2:\n",
    "        return True\n",
    "    else:\n",
    "        return False\n",
    "string1=\"radar\"\n",
    "string2=\"darar\"\n",
    "a=palindrome(string1)\n",
    "b=anagram(string1,string2)\n",
    "if a:\n",
    "    print(\"Given string is palindrome\")\n",
    "if b:\n",
    "    print(string1+\" and \"+string2+\" are anagrams to each other \")\n",
    "if a==False and b==False:\n",
    "    print(\"none\")\n",
    "    "
   ]
  },
  {
   "cell_type": "markdown",
   "metadata": {},
   "source": [
    "# 4Q) Write a Python's user-defined function that removes all the additional characters from the string and convert it finally to lower case using built-in lower(). eg: If the string is \"Dr. Darshan Ingle @AIML Trainer\", then the output be \"drdarshaningleaimltrainer\"."
   ]
  },
  {
   "cell_type": "code",
   "execution_count": 7,
   "metadata": {},
   "outputs": [
    {
     "name": "stdout",
     "output_type": "stream",
     "text": [
      "Enter the string: Dr. Darshan Ingle @AIML Trainer\n",
      "Output: drdarshaningleaimltrainer\n"
     ]
    }
   ],
   "source": [
    "def conversion(s):\n",
    "    for i in s:\n",
    "        if  not i.isalnum():\n",
    "            s=s.replace(i,\"\")\n",
    "        else:\n",
    "            continue\n",
    "    return s\n",
    "a=input(\"Enter the string: \")\n",
    "string=conversion(a)\n",
    "print(\"Output: \"+string.lower())"
   ]
  },
  {
   "cell_type": "code",
   "execution_count": null,
   "metadata": {},
   "outputs": [],
   "source": []
  },
  {
   "cell_type": "code",
   "execution_count": null,
   "metadata": {},
   "outputs": [],
   "source": []
  }
 ],
 "metadata": {
  "kernelspec": {
   "display_name": "Python 3",
   "language": "python",
   "name": "python3"
  },
  "language_info": {
   "codemirror_mode": {
    "name": "ipython",
    "version": 3
   },
   "file_extension": ".py",
   "mimetype": "text/x-python",
   "name": "python",
   "nbconvert_exporter": "python",
   "pygments_lexer": "ipython3",
   "version": "3.8.3"
  }
 },
 "nbformat": 4,
 "nbformat_minor": 4
}
