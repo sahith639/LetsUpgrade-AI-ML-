{
 "cells": [
  {
   "cell_type": "markdown",
   "metadata": {},
   "source": [
    "# 1Q) Assuming that we have some email addresses in the \"username@companyname.com\" format, please write a program to print the company name of a given email address. Both user names and company names are composed of letters only. Input Format: The first line of the input contains an email address. Output Format: Print the company name in a single line. Example; Input: john@google.com Output: google. "
   ]
  },
  {
   "cell_type": "code",
   "execution_count": 1,
   "metadata": {},
   "outputs": [
    {
     "name": "stdout",
     "output_type": "stream",
     "text": [
      "Enter your mail? john@google.com\n",
      "google\n"
     ]
    }
   ],
   "source": [
    "mail=input(\"Enter your mail?\")\n",
    "a=mail.index('@')\n",
    "print(mail[a+1:len(mail)-4])"
   ]
  },
  {
   "cell_type": "markdown",
   "metadata": {},
   "source": [
    "# 2Q) Write a program that accepts a comma-separated sequence of words as input and prints the words in a comma-separated sequence after sorting them alphabetically. Input Format: The first line of input contains words separated by the comma. Output Format: Print the sorted words separated by the comma. Example: Input: without,hello,bag,world Output: bag,hello,without,world"
   ]
  },
  {
   "cell_type": "code",
   "execution_count": 3,
   "metadata": {},
   "outputs": [
    {
     "name": "stdout",
     "output_type": "stream",
     "text": [
      "without,hello,bag,world\n",
      "['without', 'hello', 'bag', 'world']\n"
     ]
    }
   ],
   "source": [
    "li=input().split(',')\n",
    "print(li)"
   ]
  },
  {
   "cell_type": "markdown",
   "metadata": {},
   "source": [
    "# 3Q) Sets"
   ]
  },
  {
   "cell_type": "markdown",
   "metadata": {},
   "source": [
    "A set is a unordered collected of elements whic does not allow duplicate elements"
   ]
  },
  {
   "cell_type": "code",
   "execution_count": 4,
   "metadata": {},
   "outputs": [
    {
     "name": "stdout",
     "output_type": "stream",
     "text": [
      "{'arun', 'ganesh', 'shiva'}\n"
     ]
    }
   ],
   "source": [
    "set_example={'arun','ganesh','arun','shiva'}\n",
    "print(set_example)"
   ]
  },
  {
   "cell_type": "markdown",
   "metadata": {},
   "source": [
    "There are several methods in sets like \n",
    "add()-Adds a single element to a existing set,\n",
    "len()-determines the number of items in a set,\n",
    "remove()-removes a particular item from a set,\n",
    "pop()-removes last element from a set,\n",
    "clear()-this method empties the total set.\n"
   ]
  },
  {
   "cell_type": "code",
   "execution_count": 6,
   "metadata": {},
   "outputs": [
    {
     "name": "stdout",
     "output_type": "stream",
     "text": [
      "{'arun', 'ganesh', 'shiva', 'james'}\n",
      "4\n",
      "{'arun', 'ganesh', 'shiva'}\n",
      "{'ganesh', 'shiva'}\n",
      "set()\n"
     ]
    }
   ],
   "source": [
    "set_example.add(\"james\")\n",
    "print(set_example)\n",
    "print(len(set_example))\n",
    "set_example.remove(\"james\")\n",
    "print(set_example)\n",
    "set_example.pop()\n",
    "print(set_example)\n",
    "set_example.clear()\n",
    "print(set_example)"
   ]
  },
  {
   "cell_type": "markdown",
   "metadata": {},
   "source": [
    "# 4Q) Given a list of n-1 numbers ranging from 1 to n, your task is to find the missing number. There are no duplicates. Input Format: The first line contains n-1 numbers with each number separated by a space. Output Format: Print the missing number Example: Input: 1 2 4 6 3 7 8 Output: 5 Explanation: In the above list of numbers 5 is missing and hence 5 is the input"
   ]
  },
  {
   "cell_type": "code",
   "execution_count": 15,
   "metadata": {},
   "outputs": [
    {
     "name": "stdout",
     "output_type": "stream",
     "text": [
      "1 2 4 6 3 7 8\n",
      "5\n"
     ]
    }
   ],
   "source": [
    "num=list(map(int,input().split()))\n",
    "nmap={}\n",
    "maxi=len(num)\n",
    "for i in num:\n",
    "    if i not in nmap:\n",
    "        nmap[i]=1\n",
    "for i in range(1,maxi+1):\n",
    "    if i not in nmap:\n",
    "        print(i)"
   ]
  },
  {
   "cell_type": "markdown",
   "metadata": {},
   "source": [
    "# 5Q) With a given list L, write a program to print this list L after removing all duplicate values with original order reserved. Example: If the input list is 12 24 35 24 88 120 155 88 120 155 Then the output should be 12 24 35 88 120 155 Explanation: Third, the seventh and ninth element of the list L has been removed because it was already present. Input Format: In one line take the elements of the list L with each element separated by a space. Output Format: Print the elements of the modified list in one line with each element separated by a space. Example: Input: 12 24 35 24 Output: 12 24 35 "
   ]
  },
  {
   "cell_type": "code",
   "execution_count": 19,
   "metadata": {},
   "outputs": [
    {
     "name": "stdout",
     "output_type": "stream",
     "text": [
      "12 24 35 24\n",
      "12 24 35 "
     ]
    }
   ],
   "source": [
    "li=input().split()\n",
    "li2=[]\n",
    "for i in li:\n",
    "    if i not in li2:\n",
    "        li2.append(i)\n",
    "for i in li2:\n",
    "    print(i,end=\" \")"
   ]
  },
  {
   "cell_type": "code",
   "execution_count": null,
   "metadata": {},
   "outputs": [],
   "source": []
  }
 ],
 "metadata": {
  "kernelspec": {
   "display_name": "Python 3",
   "language": "python",
   "name": "python3"
  },
  "language_info": {
   "codemirror_mode": {
    "name": "ipython",
    "version": 3
   },
   "file_extension": ".py",
   "mimetype": "text/x-python",
   "name": "python",
   "nbconvert_exporter": "python",
   "pygments_lexer": "ipython3",
   "version": "3.8.3"
  }
 },
 "nbformat": 4,
 "nbformat_minor": 4
}
