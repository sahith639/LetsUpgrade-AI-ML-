{
 "cells": [
  {
   "cell_type": "markdown",
   "metadata": {},
   "source": [
    "\n",
    "# 1Q)Write a program to copy the contents of one file to another using a for loop. (Don’t use built-in copy function)"
   ]
  },
  {
   "cell_type": "code",
   "execution_count": 1,
   "metadata": {},
   "outputs": [],
   "source": [
    "with open(\"main.txt\") as mn:\n",
    "    with open(\"sub.txt\", \"w\") as sb:\n",
    "        for line in mn:\n",
    "            sb.write(line)\n",
    "            \n",
    "sb.close()"
   ]
  },
  {
   "cell_type": "markdown",
   "metadata": {},
   "source": [
    "# Write a Python program to find maximum and minimum values in the dictionary. Do not use built-in min and max functions."
   ]
  },
  {
   "cell_type": "code",
   "execution_count": 10,
   "metadata": {},
   "outputs": [
    {
     "name": "stdout",
     "output_type": "stream",
     "text": [
      "{'max': ('a', 87), 'min': ('v', 5)}\n"
     ]
    }
   ],
   "source": [
    "\n",
    "di={'a':87,\"f\":43,'df':32,'v':5}\n",
    "m = {}\n",
    "for key,value in di.items():\n",
    "    m[\"max\"] = key,value\n",
    "    m[\"min\"] = key,value\n",
    "for key,value in di.items():\n",
    "    if value >= m[\"max\"][1]:\n",
    "        m[\"max\"]=key,value\n",
    "    if value <= m[\"min\"][1]:\n",
    "        m[\"min\"]=key,value\n",
    "print(m)\n"
   ]
  },
  {
   "cell_type": "code",
   "execution_count": null,
   "metadata": {},
   "outputs": [],
   "source": []
  },
  {
   "cell_type": "code",
   "execution_count": null,
   "metadata": {},
   "outputs": [],
   "source": []
  }
 ],
 "metadata": {
  "kernelspec": {
   "display_name": "Python 3",
   "language": "python",
   "name": "python3"
  },
  "language_info": {
   "codemirror_mode": {
    "name": "ipython",
    "version": 3
   },
   "file_extension": ".py",
   "mimetype": "text/x-python",
   "name": "python",
   "nbconvert_exporter": "python",
   "pygments_lexer": "ipython3",
   "version": "3.8.3"
  }
 },
 "nbformat": 4,
 "nbformat_minor": 4
}
