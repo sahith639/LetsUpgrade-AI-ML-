{
 "cells": [
  {
   "cell_type": "markdown",
   "metadata": {},
   "source": [
    "# 1Q)Write a program to subtract two complex numbers in Python."
   ]
  },
  {
   "cell_type": "code",
   "execution_count": 1,
   "metadata": {},
   "outputs": [
    {
     "name": "stdout",
     "output_type": "stream",
     "text": [
      "(2+1j)\n"
     ]
    }
   ],
   "source": [
    "number1=4+5j\n",
    "number2=2+4j\n",
    "result=number1-number2\n",
    "print(result)"
   ]
  },
  {
   "cell_type": "markdown",
   "metadata": {},
   "source": [
    "# 2Q)Write a program to find the fourth root of a number."
   ]
  },
  {
   "cell_type": "code",
   "execution_count": 2,
   "metadata": {},
   "outputs": [
    {
     "name": "stdout",
     "output_type": "stream",
     "text": [
      "4.0\n"
     ]
    }
   ],
   "source": [
    "number=256\n",
    "fourth_root=number**(1/4)\n",
    "print(fourth_root)"
   ]
  },
  {
   "cell_type": "markdown",
   "metadata": {},
   "source": [
    "# 3Q) Write a program to swap two numbers in Python with the help of a temporary variable."
   ]
  },
  {
   "cell_type": "code",
   "execution_count": 3,
   "metadata": {},
   "outputs": [
    {
     "name": "stdout",
     "output_type": "stream",
     "text": [
      "Values before swapping a= 5  b= 6\n",
      "Values after swapping a= 6  b= 5\n"
     ]
    }
   ],
   "source": [
    "a=5\n",
    "b=6\n",
    "print(\"Values before swapping a=\",a,\" b=\",b)\n",
    "temp=a\n",
    "a=b\n",
    "b=temp\n",
    "print(\"Values after swapping a=\",a,\" b=\",b)"
   ]
  },
  {
   "cell_type": "markdown",
   "metadata": {},
   "source": [
    "# 4Q) Write a program to swap two numbers in Python without using a temporary variable."
   ]
  },
  {
   "cell_type": "code",
   "execution_count": 4,
   "metadata": {},
   "outputs": [
    {
     "name": "stdout",
     "output_type": "stream",
     "text": [
      "Values before swapping a= 5  b= 6\n",
      "Values after swapping a= 6  b= 5\n"
     ]
    }
   ],
   "source": [
    "a=5\n",
    "b=6\n",
    "print(\"Values before swapping a=\",a,\" b=\",b)\n",
    "a=a+b\n",
    "b=a-b\n",
    "a=a-b\n",
    "print(\"Values after swapping a=\",a,\" b=\",b)"
   ]
  },
  {
   "cell_type": "markdown",
   "metadata": {},
   "source": [
    "# 5Q) Write a program to convert Fahrenheit to kelvin and celsius both."
   ]
  },
  {
   "cell_type": "code",
   "execution_count": 5,
   "metadata": {},
   "outputs": [
    {
     "name": "stdout",
     "output_type": "stream",
     "text": [
      "Given Fahrenheit= 100 converting into kelvin and celsius we get kelvin= 310.92777777777775 celsius= 37.77777777777778\n"
     ]
    }
   ],
   "source": [
    "Fahrenheit=100\n",
    "Kelvin=(Fahrenheit-32)*5/9+273.15\n",
    "Celsius=(Fahrenheit-32)*5/9\n",
    "print(\"Given Fahrenheit=\",Fahrenheit,\"converting into kelvin and celsius we get kelvin=\",Kelvin,\"celsius=\",Celsius)"
   ]
  },
  {
   "cell_type": "markdown",
   "metadata": {},
   "source": [
    "# 6Q) Write a program to demonstrate all the available data types in Python."
   ]
  },
  {
   "cell_type": "code",
   "execution_count": 6,
   "metadata": {},
   "outputs": [
    {
     "name": "stdout",
     "output_type": "stream",
     "text": [
      "\ta= Hi \n",
      " Hi belongs to data type of <class 'str'>\n",
      "\tb= 32 \n",
      " 32 belongs to data type of <class 'int'>\n",
      "\tc= 32.5 \n",
      " 32.5 belongs to data type of <class 'float'>\n",
      "\td= (2+3j) \n",
      " (2+3j) belongs to data type of <class 'complex'>\n",
      "\te= True \n",
      " True belongs to data type of <class 'bool'>\n"
     ]
    }
   ],
   "source": [
    "a=\"Hi\"\n",
    "b=32\n",
    "c=32.5\n",
    "d=2+3j\n",
    "e=True\n",
    "print(\"\\ta=\",a,\"\\n\",a,\"belongs to data type of\",type(a))\n",
    "print(\"\\tb=\",b,\"\\n\",b,\"belongs to data type of\",type(b))\n",
    "print(\"\\tc=\",c,\"\\n\",c,\"belongs to data type of\",type(c))\n",
    "print(\"\\td=\",d,\"\\n\",d,\"belongs to data type of\",type(d))\n",
    "print(\"\\te=\",e,\"\\n\",e,\"belongs to data type of\",type(e))"
   ]
  },
  {
   "cell_type": "code",
   "execution_count": null,
   "metadata": {},
   "outputs": [],
   "source": []
  }
 ],
 "metadata": {
  "kernelspec": {
   "display_name": "Python 3",
   "language": "python",
   "name": "python3"
  },
  "language_info": {
   "codemirror_mode": {
    "name": "ipython",
    "version": 3
   },
   "file_extension": ".py",
   "mimetype": "text/x-python",
   "name": "python",
   "nbconvert_exporter": "python",
   "pygments_lexer": "ipython3",
   "version": "3.8.3"
  }
 },
 "nbformat": 4,
 "nbformat_minor": 4
}
